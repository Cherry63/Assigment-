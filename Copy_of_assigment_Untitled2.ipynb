{
  "nbformat": 4,
  "nbformat_minor": 0,
  "metadata": {
    "colab": {
      "name": "Copy of assigment Untitled2.ipynb",
      "provenance": [],
      "collapsed_sections": [],
      "authorship_tag": "ABX9TyM2QcnLEzBe6d6HmpVGUxjy",
      "include_colab_link": true
    },
    "kernelspec": {
      "name": "python3",
      "display_name": "Python 3"
    },
    "language_info": {
      "name": "python"
    }
  },
  "cells": [
    {
      "cell_type": "markdown",
      "metadata": {
        "id": "view-in-github",
        "colab_type": "text"
      },
      "source": [
        "<a href=\"https://colab.research.google.com/github/Cherry63/Assigment-/blob/main/Copy_of_assigment_Untitled2.ipynb\" target=\"_parent\"><img src=\"https://colab.research.google.com/assets/colab-badge.svg\" alt=\"Open In Colab\"/></a>"
      ]
    },
    {
      "cell_type": "code",
      "execution_count": null,
      "metadata": {
        "id": "mJarOctlW_tr"
      },
      "outputs": [],
      "source": [
        "# finbanocci series\n",
        "n = 6\n",
        "a = 0\n",
        "b = 1\n",
        "\n",
        "while n >0:\n",
        "    print(b)\n",
        "    n = n-1\n",
        "    c = a+b\n",
        "    a = b\n",
        "    b = c"
      ]
    },
    {
      "cell_type": "code",
      "source": [
        "#LCM\n",
        "def lcm(n1,n2):\n",
        " if n1>n2:\n",
        "   greater  = n1\n",
        " else:\n",
        "   greater = n2    \n",
        "   while(True):  \n",
        "        if((greater % x == 0) and (greater % y == 0)):  \n",
        "            lcm = greater  \n",
        "            break  \n",
        "        greater += 1  \n",
        "     return lcm\n",
        "\n",
        " \n",
        "n1=int(input(\"enter the first number:\"))\n",
        "n2=int(input(\"enter the second number:\"))\n",
        "print(\"The L.C.M. is\", compute_lcm(num1, num2))"
      ],
      "metadata": {
        "id": "1BMOzBaKXNcf"
      },
      "execution_count": null,
      "outputs": []
    },
    {
      "cell_type": "code",
      "source": [
        "#reverse number\n",
        "n1 = 12345\n",
        "n2= 0\n",
        "\n",
        "while n1 != 0:\n",
        "    digit = n1 % 10\n",
        "    n2 = n2 * 10 + digit\n",
        "    n1 //= 10\n",
        "\n",
        "print(\"Reversed Number: \" + str(n2))\n"
      ],
      "metadata": {
        "id": "3UeeSwpTpGQh"
      },
      "execution_count": null,
      "outputs": []
    },
    {
      "cell_type": "code",
      "source": [
        "#ascending order or not\n",
        "length=len(a)\n",
        "while length>0:\n",
        "  "
      ],
      "metadata": {
        "id": "cbZgr93NqO6f"
      },
      "execution_count": null,
      "outputs": []
    },
    {
      "cell_type": "code",
      "source": [
        "#minutes to sec\n",
        "def convert(minutes):\n",
        "   \n",
        "      return minutes*60\n",
        "      \n",
        "n = 3\n",
        "print(convert(n))\n"
      ],
      "metadata": {
        "colab": {
          "base_uri": "https://localhost:8080/"
        },
        "id": "DMRgAv85G3x_",
        "outputId": "07f8376d-dd6d-4a8d-f859-4b2f9f1724eb"
      },
      "execution_count": null,
      "outputs": [
        {
          "output_type": "stream",
          "name": "stdout",
          "text": [
            "180\n"
          ]
        }
      ]
    },
    {
      "cell_type": "code",
      "source": [
        "#age  to days\n",
        "\n",
        "def convert(age):\n",
        "   \n",
        "      return age*365.24\n",
        "      \n",
        "n = 2\n",
        "print(convert(n))"
      ],
      "metadata": {
        "colab": {
          "base_uri": "https://localhost:8080/"
        },
        "id": "o6qVsGToS9F2",
        "outputId": "a6cedd5e-1b30-4b56-b05a-c5a6c747a910"
      },
      "execution_count": null,
      "outputs": [
        {
          "output_type": "stream",
          "name": "stdout",
          "text": [
            "730.48\n"
          ]
        }
      ]
    }
  ]
}