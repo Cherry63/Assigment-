{
  "cells": [
    {
      "cell_type": "markdown",
      "metadata": {
        "id": "view-in-github",
        "colab_type": "text"
      },
      "source": [
        "<a href=\"https://colab.research.google.com/github/Cherry63/Assigment-/blob/main/Internal_task.ipynb\" target=\"_parent\"><img src=\"https://colab.research.google.com/assets/colab-badge.svg\" alt=\"Open In Colab\"/></a>"
      ]
    },
    {
      "cell_type": "code",
      "source": [
        "pip install --upgrade xlrd\n"
      ],
      "metadata": {
        "colab": {
          "base_uri": "https://localhost:8080/"
        },
        "id": "GIinoMn6GVIb",
        "outputId": "ae279690-ae5f-498a-cbd6-78ced3dcaf4b"
      },
      "execution_count": 4,
      "outputs": [
        {
          "output_type": "stream",
          "name": "stdout",
          "text": [
            "Looking in indexes: https://pypi.org/simple, https://us-python.pkg.dev/colab-wheels/public/simple/\n",
            "Requirement already satisfied: xlrd in /usr/local/lib/python3.7/dist-packages (1.1.0)\n",
            "Collecting xlrd\n",
            "  Downloading xlrd-2.0.1-py2.py3-none-any.whl (96 kB)\n",
            "\u001b[K     |████████████████████████████████| 96 kB 5.8 MB/s \n",
            "\u001b[?25hInstalling collected packages: xlrd\n",
            "  Attempting uninstall: xlrd\n",
            "    Found existing installation: xlrd 1.1.0\n",
            "    Uninstalling xlrd-1.1.0:\n",
            "      Successfully uninstalled xlrd-1.1.0\n",
            "Successfully installed xlrd-2.0.1\n"
          ]
        }
      ]
    },
    {
      "cell_type": "code",
      "source": [
        "import pkg_resources\n",
        "pkg_resources.get_distribution(\"xlrd\").version"
      ],
      "metadata": {
        "colab": {
          "base_uri": "https://localhost:8080/",
          "height": 36
        },
        "id": "dBeC2iyMGgNR",
        "outputId": "964e8c27-69cd-4d00-9498-38f5b2da1907"
      },
      "execution_count": 5,
      "outputs": [
        {
          "output_type": "execute_result",
          "data": {
            "text/plain": [
              "'1.1.0'"
            ],
            "application/vnd.google.colaboratory.intrinsic+json": {
              "type": "string"
            }
          },
          "metadata": {},
          "execution_count": 5
        }
      ]
    },
    {
      "cell_type": "code",
      "source": [
        "import numpy as np\n",
        "import pandas as pd\n",
        "import matplotlib.pyplot as plt\n",
        "import seaborn as sns\n",
        "from sklearn import datasets\n",
        "from sklearn.cluster import k_means\n",
        "from matplotlib import pyplot\n",
        "from pandas.plotting import scatter_matrix\n",
        "import os\n",
        "\n"
      ],
      "metadata": {
        "id": "z789hUemtswN"
      },
      "execution_count": 6,
      "outputs": []
    },
    {
      "cell_type": "code",
      "source": [
        "df = pd.read_excel('DataAnalystTask.xls')\n",
        "df.head(5)"
      ],
      "metadata": {
        "id": "Kqk7cj_Fts3U",
        "colab": {
          "base_uri": "https://localhost:8080/",
          "height": 354
        },
        "outputId": "5fb86ff0-a7cc-4571-d207-792d4df907b0"
      },
      "execution_count": 46,
      "outputs": [
        {
          "output_type": "execute_result",
          "data": {
            "text/plain": [
              "  User ID Product Code Payment Status Coupon code Lead Registered Time  \\\n",
              "0   user1     Product1      Initiated         NaN  2022-08-01 04:55:00   \n",
              "1   user2     Product2      Initiated         NaN  2022-08-01 04:46:00   \n",
              "2   user4     Product3      Initiated         NaN  2022-08-01 03:21:00   \n",
              "3   user6     Product3      Initiated         NaN  2022-08-01 00:56:00   \n",
              "4   user8     Product4      Initiated         NaN  2022-08-01 00:46:00   \n",
              "\n",
              "  Sales Date  Source  Product Amount with GST Payment Mode Currency  Code  \\\n",
              "0 2022-07-31  Direct                   3999.0          NaN            INR   \n",
              "1 2022-07-31  Direct                    999.0          NaN            INR   \n",
              "2 2022-07-31  Direct                   1999.0          NaN            INR   \n",
              "3 2022-07-31  Direct                   1999.0          NaN            INR   \n",
              "4 2022-07-31  Direct                   2022.0          NaN            INR   \n",
              "\n",
              "  Transaction Bank  \n",
              "0              NaN  \n",
              "1              NaN  \n",
              "2              NaN  \n",
              "3              NaN  \n",
              "4              NaN  "
            ],
            "text/html": [
              "\n",
              "  <div id=\"df-258d6504-808e-4cfa-a7fd-35df4116e91b\">\n",
              "    <div class=\"colab-df-container\">\n",
              "      <div>\n",
              "<style scoped>\n",
              "    .dataframe tbody tr th:only-of-type {\n",
              "        vertical-align: middle;\n",
              "    }\n",
              "\n",
              "    .dataframe tbody tr th {\n",
              "        vertical-align: top;\n",
              "    }\n",
              "\n",
              "    .dataframe thead th {\n",
              "        text-align: right;\n",
              "    }\n",
              "</style>\n",
              "<table border=\"1\" class=\"dataframe\">\n",
              "  <thead>\n",
              "    <tr style=\"text-align: right;\">\n",
              "      <th></th>\n",
              "      <th>User ID</th>\n",
              "      <th>Product Code</th>\n",
              "      <th>Payment Status</th>\n",
              "      <th>Coupon code</th>\n",
              "      <th>Lead Registered Time</th>\n",
              "      <th>Sales Date</th>\n",
              "      <th>Source</th>\n",
              "      <th>Product Amount with GST</th>\n",
              "      <th>Payment Mode</th>\n",
              "      <th>Currency  Code</th>\n",
              "      <th>Transaction Bank</th>\n",
              "    </tr>\n",
              "  </thead>\n",
              "  <tbody>\n",
              "    <tr>\n",
              "      <th>0</th>\n",
              "      <td>user1</td>\n",
              "      <td>Product1</td>\n",
              "      <td>Initiated</td>\n",
              "      <td>NaN</td>\n",
              "      <td>2022-08-01 04:55:00</td>\n",
              "      <td>2022-07-31</td>\n",
              "      <td>Direct</td>\n",
              "      <td>3999.0</td>\n",
              "      <td>NaN</td>\n",
              "      <td>INR</td>\n",
              "      <td>NaN</td>\n",
              "    </tr>\n",
              "    <tr>\n",
              "      <th>1</th>\n",
              "      <td>user2</td>\n",
              "      <td>Product2</td>\n",
              "      <td>Initiated</td>\n",
              "      <td>NaN</td>\n",
              "      <td>2022-08-01 04:46:00</td>\n",
              "      <td>2022-07-31</td>\n",
              "      <td>Direct</td>\n",
              "      <td>999.0</td>\n",
              "      <td>NaN</td>\n",
              "      <td>INR</td>\n",
              "      <td>NaN</td>\n",
              "    </tr>\n",
              "    <tr>\n",
              "      <th>2</th>\n",
              "      <td>user4</td>\n",
              "      <td>Product3</td>\n",
              "      <td>Initiated</td>\n",
              "      <td>NaN</td>\n",
              "      <td>2022-08-01 03:21:00</td>\n",
              "      <td>2022-07-31</td>\n",
              "      <td>Direct</td>\n",
              "      <td>1999.0</td>\n",
              "      <td>NaN</td>\n",
              "      <td>INR</td>\n",
              "      <td>NaN</td>\n",
              "    </tr>\n",
              "    <tr>\n",
              "      <th>3</th>\n",
              "      <td>user6</td>\n",
              "      <td>Product3</td>\n",
              "      <td>Initiated</td>\n",
              "      <td>NaN</td>\n",
              "      <td>2022-08-01 00:56:00</td>\n",
              "      <td>2022-07-31</td>\n",
              "      <td>Direct</td>\n",
              "      <td>1999.0</td>\n",
              "      <td>NaN</td>\n",
              "      <td>INR</td>\n",
              "      <td>NaN</td>\n",
              "    </tr>\n",
              "    <tr>\n",
              "      <th>4</th>\n",
              "      <td>user8</td>\n",
              "      <td>Product4</td>\n",
              "      <td>Initiated</td>\n",
              "      <td>NaN</td>\n",
              "      <td>2022-08-01 00:46:00</td>\n",
              "      <td>2022-07-31</td>\n",
              "      <td>Direct</td>\n",
              "      <td>2022.0</td>\n",
              "      <td>NaN</td>\n",
              "      <td>INR</td>\n",
              "      <td>NaN</td>\n",
              "    </tr>\n",
              "  </tbody>\n",
              "</table>\n",
              "</div>\n",
              "      <button class=\"colab-df-convert\" onclick=\"convertToInteractive('df-258d6504-808e-4cfa-a7fd-35df4116e91b')\"\n",
              "              title=\"Convert this dataframe to an interactive table.\"\n",
              "              style=\"display:none;\">\n",
              "        \n",
              "  <svg xmlns=\"http://www.w3.org/2000/svg\" height=\"24px\"viewBox=\"0 0 24 24\"\n",
              "       width=\"24px\">\n",
              "    <path d=\"M0 0h24v24H0V0z\" fill=\"none\"/>\n",
              "    <path d=\"M18.56 5.44l.94 2.06.94-2.06 2.06-.94-2.06-.94-.94-2.06-.94 2.06-2.06.94zm-11 1L8.5 8.5l.94-2.06 2.06-.94-2.06-.94L8.5 2.5l-.94 2.06-2.06.94zm10 10l.94 2.06.94-2.06 2.06-.94-2.06-.94-.94-2.06-.94 2.06-2.06.94z\"/><path d=\"M17.41 7.96l-1.37-1.37c-.4-.4-.92-.59-1.43-.59-.52 0-1.04.2-1.43.59L10.3 9.45l-7.72 7.72c-.78.78-.78 2.05 0 2.83L4 21.41c.39.39.9.59 1.41.59.51 0 1.02-.2 1.41-.59l7.78-7.78 2.81-2.81c.8-.78.8-2.07 0-2.86zM5.41 20L4 18.59l7.72-7.72 1.47 1.35L5.41 20z\"/>\n",
              "  </svg>\n",
              "      </button>\n",
              "      \n",
              "  <style>\n",
              "    .colab-df-container {\n",
              "      display:flex;\n",
              "      flex-wrap:wrap;\n",
              "      gap: 12px;\n",
              "    }\n",
              "\n",
              "    .colab-df-convert {\n",
              "      background-color: #E8F0FE;\n",
              "      border: none;\n",
              "      border-radius: 50%;\n",
              "      cursor: pointer;\n",
              "      display: none;\n",
              "      fill: #1967D2;\n",
              "      height: 32px;\n",
              "      padding: 0 0 0 0;\n",
              "      width: 32px;\n",
              "    }\n",
              "\n",
              "    .colab-df-convert:hover {\n",
              "      background-color: #E2EBFA;\n",
              "      box-shadow: 0px 1px 2px rgba(60, 64, 67, 0.3), 0px 1px 3px 1px rgba(60, 64, 67, 0.15);\n",
              "      fill: #174EA6;\n",
              "    }\n",
              "\n",
              "    [theme=dark] .colab-df-convert {\n",
              "      background-color: #3B4455;\n",
              "      fill: #D2E3FC;\n",
              "    }\n",
              "\n",
              "    [theme=dark] .colab-df-convert:hover {\n",
              "      background-color: #434B5C;\n",
              "      box-shadow: 0px 1px 3px 1px rgba(0, 0, 0, 0.15);\n",
              "      filter: drop-shadow(0px 1px 2px rgba(0, 0, 0, 0.3));\n",
              "      fill: #FFFFFF;\n",
              "    }\n",
              "  </style>\n",
              "\n",
              "      <script>\n",
              "        const buttonEl =\n",
              "          document.querySelector('#df-258d6504-808e-4cfa-a7fd-35df4116e91b button.colab-df-convert');\n",
              "        buttonEl.style.display =\n",
              "          google.colab.kernel.accessAllowed ? 'block' : 'none';\n",
              "\n",
              "        async function convertToInteractive(key) {\n",
              "          const element = document.querySelector('#df-258d6504-808e-4cfa-a7fd-35df4116e91b');\n",
              "          const dataTable =\n",
              "            await google.colab.kernel.invokeFunction('convertToInteractive',\n",
              "                                                     [key], {});\n",
              "          if (!dataTable) return;\n",
              "\n",
              "          const docLinkHtml = 'Like what you see? Visit the ' +\n",
              "            '<a target=\"_blank\" href=https://colab.research.google.com/notebooks/data_table.ipynb>data table notebook</a>'\n",
              "            + ' to learn more about interactive tables.';\n",
              "          element.innerHTML = '';\n",
              "          dataTable['output_type'] = 'display_data';\n",
              "          await google.colab.output.renderOutput(dataTable, element);\n",
              "          const docLink = document.createElement('div');\n",
              "          docLink.innerHTML = docLinkHtml;\n",
              "          element.appendChild(docLink);\n",
              "        }\n",
              "      </script>\n",
              "    </div>\n",
              "  </div>\n",
              "  "
            ]
          },
          "metadata": {},
          "execution_count": 46
        }
      ]
    },
    {
      "cell_type": "code",
      "source": [
        "df.shape"
      ],
      "metadata": {
        "id": "L_g4EF9JttS1",
        "colab": {
          "base_uri": "https://localhost:8080/"
        },
        "outputId": "1246a34e-62ca-46a5-cf67-09385322aab9"
      },
      "execution_count": 47,
      "outputs": [
        {
          "output_type": "execute_result",
          "data": {
            "text/plain": [
              "(9514, 11)"
            ]
          },
          "metadata": {},
          "execution_count": 47
        }
      ]
    },
    {
      "cell_type": "code",
      "source": [
        "df.describe()"
      ],
      "metadata": {
        "id": "HcMhZ1aZttVt",
        "colab": {
          "base_uri": "https://localhost:8080/",
          "height": 300
        },
        "outputId": "a9ba3185-73ec-4755-8298-bbb2c3584102"
      },
      "execution_count": 48,
      "outputs": [
        {
          "output_type": "execute_result",
          "data": {
            "text/plain": [
              "       Product Amount with GST\n",
              "count              9513.000000\n",
              "mean               1464.982533\n",
              "std                1277.535383\n",
              "min                   4.680000\n",
              "25%                 499.000000\n",
              "50%                1499.000000\n",
              "75%                1999.000000\n",
              "max               29992.000000"
            ],
            "text/html": [
              "\n",
              "  <div id=\"df-a7a718b9-76ef-48b7-8fd4-9b4b9c26ded2\">\n",
              "    <div class=\"colab-df-container\">\n",
              "      <div>\n",
              "<style scoped>\n",
              "    .dataframe tbody tr th:only-of-type {\n",
              "        vertical-align: middle;\n",
              "    }\n",
              "\n",
              "    .dataframe tbody tr th {\n",
              "        vertical-align: top;\n",
              "    }\n",
              "\n",
              "    .dataframe thead th {\n",
              "        text-align: right;\n",
              "    }\n",
              "</style>\n",
              "<table border=\"1\" class=\"dataframe\">\n",
              "  <thead>\n",
              "    <tr style=\"text-align: right;\">\n",
              "      <th></th>\n",
              "      <th>Product Amount with GST</th>\n",
              "    </tr>\n",
              "  </thead>\n",
              "  <tbody>\n",
              "    <tr>\n",
              "      <th>count</th>\n",
              "      <td>9513.000000</td>\n",
              "    </tr>\n",
              "    <tr>\n",
              "      <th>mean</th>\n",
              "      <td>1464.982533</td>\n",
              "    </tr>\n",
              "    <tr>\n",
              "      <th>std</th>\n",
              "      <td>1277.535383</td>\n",
              "    </tr>\n",
              "    <tr>\n",
              "      <th>min</th>\n",
              "      <td>4.680000</td>\n",
              "    </tr>\n",
              "    <tr>\n",
              "      <th>25%</th>\n",
              "      <td>499.000000</td>\n",
              "    </tr>\n",
              "    <tr>\n",
              "      <th>50%</th>\n",
              "      <td>1499.000000</td>\n",
              "    </tr>\n",
              "    <tr>\n",
              "      <th>75%</th>\n",
              "      <td>1999.000000</td>\n",
              "    </tr>\n",
              "    <tr>\n",
              "      <th>max</th>\n",
              "      <td>29992.000000</td>\n",
              "    </tr>\n",
              "  </tbody>\n",
              "</table>\n",
              "</div>\n",
              "      <button class=\"colab-df-convert\" onclick=\"convertToInteractive('df-a7a718b9-76ef-48b7-8fd4-9b4b9c26ded2')\"\n",
              "              title=\"Convert this dataframe to an interactive table.\"\n",
              "              style=\"display:none;\">\n",
              "        \n",
              "  <svg xmlns=\"http://www.w3.org/2000/svg\" height=\"24px\"viewBox=\"0 0 24 24\"\n",
              "       width=\"24px\">\n",
              "    <path d=\"M0 0h24v24H0V0z\" fill=\"none\"/>\n",
              "    <path d=\"M18.56 5.44l.94 2.06.94-2.06 2.06-.94-2.06-.94-.94-2.06-.94 2.06-2.06.94zm-11 1L8.5 8.5l.94-2.06 2.06-.94-2.06-.94L8.5 2.5l-.94 2.06-2.06.94zm10 10l.94 2.06.94-2.06 2.06-.94-2.06-.94-.94-2.06-.94 2.06-2.06.94z\"/><path d=\"M17.41 7.96l-1.37-1.37c-.4-.4-.92-.59-1.43-.59-.52 0-1.04.2-1.43.59L10.3 9.45l-7.72 7.72c-.78.78-.78 2.05 0 2.83L4 21.41c.39.39.9.59 1.41.59.51 0 1.02-.2 1.41-.59l7.78-7.78 2.81-2.81c.8-.78.8-2.07 0-2.86zM5.41 20L4 18.59l7.72-7.72 1.47 1.35L5.41 20z\"/>\n",
              "  </svg>\n",
              "      </button>\n",
              "      \n",
              "  <style>\n",
              "    .colab-df-container {\n",
              "      display:flex;\n",
              "      flex-wrap:wrap;\n",
              "      gap: 12px;\n",
              "    }\n",
              "\n",
              "    .colab-df-convert {\n",
              "      background-color: #E8F0FE;\n",
              "      border: none;\n",
              "      border-radius: 50%;\n",
              "      cursor: pointer;\n",
              "      display: none;\n",
              "      fill: #1967D2;\n",
              "      height: 32px;\n",
              "      padding: 0 0 0 0;\n",
              "      width: 32px;\n",
              "    }\n",
              "\n",
              "    .colab-df-convert:hover {\n",
              "      background-color: #E2EBFA;\n",
              "      box-shadow: 0px 1px 2px rgba(60, 64, 67, 0.3), 0px 1px 3px 1px rgba(60, 64, 67, 0.15);\n",
              "      fill: #174EA6;\n",
              "    }\n",
              "\n",
              "    [theme=dark] .colab-df-convert {\n",
              "      background-color: #3B4455;\n",
              "      fill: #D2E3FC;\n",
              "    }\n",
              "\n",
              "    [theme=dark] .colab-df-convert:hover {\n",
              "      background-color: #434B5C;\n",
              "      box-shadow: 0px 1px 3px 1px rgba(0, 0, 0, 0.15);\n",
              "      filter: drop-shadow(0px 1px 2px rgba(0, 0, 0, 0.3));\n",
              "      fill: #FFFFFF;\n",
              "    }\n",
              "  </style>\n",
              "\n",
              "      <script>\n",
              "        const buttonEl =\n",
              "          document.querySelector('#df-a7a718b9-76ef-48b7-8fd4-9b4b9c26ded2 button.colab-df-convert');\n",
              "        buttonEl.style.display =\n",
              "          google.colab.kernel.accessAllowed ? 'block' : 'none';\n",
              "\n",
              "        async function convertToInteractive(key) {\n",
              "          const element = document.querySelector('#df-a7a718b9-76ef-48b7-8fd4-9b4b9c26ded2');\n",
              "          const dataTable =\n",
              "            await google.colab.kernel.invokeFunction('convertToInteractive',\n",
              "                                                     [key], {});\n",
              "          if (!dataTable) return;\n",
              "\n",
              "          const docLinkHtml = 'Like what you see? Visit the ' +\n",
              "            '<a target=\"_blank\" href=https://colab.research.google.com/notebooks/data_table.ipynb>data table notebook</a>'\n",
              "            + ' to learn more about interactive tables.';\n",
              "          element.innerHTML = '';\n",
              "          dataTable['output_type'] = 'display_data';\n",
              "          await google.colab.output.renderOutput(dataTable, element);\n",
              "          const docLink = document.createElement('div');\n",
              "          docLink.innerHTML = docLinkHtml;\n",
              "          element.appendChild(docLink);\n",
              "        }\n",
              "      </script>\n",
              "    </div>\n",
              "  </div>\n",
              "  "
            ]
          },
          "metadata": {},
          "execution_count": 48
        }
      ]
    },
    {
      "cell_type": "code",
      "source": [
        "df.info()"
      ],
      "metadata": {
        "id": "w-6vT8eBttYl",
        "colab": {
          "base_uri": "https://localhost:8080/"
        },
        "outputId": "0a11188c-c832-4393-ca76-90a0ed43fd1a"
      },
      "execution_count": 49,
      "outputs": [
        {
          "output_type": "stream",
          "name": "stdout",
          "text": [
            "<class 'pandas.core.frame.DataFrame'>\n",
            "RangeIndex: 9514 entries, 0 to 9513\n",
            "Data columns (total 11 columns):\n",
            " #   Column                   Non-Null Count  Dtype         \n",
            "---  ------                   --------------  -----         \n",
            " 0   User ID                  9514 non-null   object        \n",
            " 1   Product Code             9514 non-null   object        \n",
            " 2   Payment Status           9514 non-null   object        \n",
            " 3   Coupon code              662 non-null    object        \n",
            " 4   Lead Registered Time     9514 non-null   datetime64[ns]\n",
            " 5   Sales Date               9514 non-null   datetime64[ns]\n",
            " 6   Source                   9514 non-null   object        \n",
            " 7   Product Amount with GST  9513 non-null   float64       \n",
            " 8   Payment Mode             1730 non-null   object        \n",
            " 9   Currency  Code           9514 non-null   object        \n",
            " 10  Transaction Bank         92 non-null     object        \n",
            "dtypes: datetime64[ns](2), float64(1), object(8)\n",
            "memory usage: 817.7+ KB\n"
          ]
        }
      ]
    },
    {
      "cell_type": "code",
      "source": [
        "df.isna().sum()"
      ],
      "metadata": {
        "id": "GOGxWxabttbe",
        "colab": {
          "base_uri": "https://localhost:8080/"
        },
        "outputId": "ac219be7-dc5d-4379-b8fc-21543018ca92"
      },
      "execution_count": 50,
      "outputs": [
        {
          "output_type": "execute_result",
          "data": {
            "text/plain": [
              "User ID                       0\n",
              "Product Code                  0\n",
              "Payment Status                0\n",
              "Coupon code                8852\n",
              "Lead Registered Time          0\n",
              "Sales Date                    0\n",
              "Source                        0\n",
              "Product Amount with GST       1\n",
              "Payment Mode               7784\n",
              "Currency  Code                0\n",
              "Transaction Bank           9422\n",
              "dtype: int64"
            ]
          },
          "metadata": {},
          "execution_count": 50
        }
      ]
    },
    {
      "cell_type": "code",
      "source": [
        "df_dropped=df.dropna()\n",
        "df_dropped"
      ],
      "metadata": {
        "colab": {
          "base_uri": "https://localhost:8080/",
          "height": 744
        },
        "id": "_VT5tpg_wlQ8",
        "outputId": "3d5c46a0-f11c-49c0-c7c2-50a70634ae62"
      },
      "execution_count": 24,
      "outputs": [
        {
          "output_type": "execute_result",
          "data": {
            "text/plain": [
              "       User ID Product Code Payment Status Coupon code Lead Registered Time  \\\n",
              "869   user1205    Product38           paid     Coupon1  2022-07-25 17:23:00   \n",
              "2264  user3174    Product91           paid     Coupon1  2022-07-17 00:19:00   \n",
              "3204  user4459     Product1           paid     Coupon1  2022-07-09 23:44:00   \n",
              "4543  user5952    Product53           paid    Coupon46  2022-07-03 09:52:00   \n",
              "4748  user6130     Product1           paid     Coupon1  2022-07-02 22:28:00   \n",
              "4795  user6178     Product1           paid     Coupon1  2022-07-02 19:23:00   \n",
              "5081  user5305    Product31           paid     Coupon1  2022-07-01 09:05:00   \n",
              "5113  user6544     Product1           paid     Coupon1  2022-06-30 22:34:00   \n",
              "6218  user5277     Product1           paid     Coupon9  2022-06-25 13:07:00   \n",
              "7264  user8616    Product98           paid    Coupon74  2022-06-20 11:32:00   \n",
              "7478  user8789    Product12           paid     Coupon1  2022-06-19 19:09:00   \n",
              "9171  user6038     Product1           paid     Coupon9  2022-06-13 19:10:00   \n",
              "9273   user864    Product88           paid    Coupon93  2022-06-12 20:52:00   \n",
              "\n",
              "     Sales Date      Source  Product Amount with GST Payment Mode  \\\n",
              "869  2022-07-25        Paid                    374.0   netbanking   \n",
              "2264 2022-07-16       Email                    374.0   netbanking   \n",
              "3204 2022-07-09      Direct                   2999.0   netbanking   \n",
              "4543 2022-07-03      Direct                   1799.0   netbanking   \n",
              "4748 2022-07-02       Email                   1874.0   netbanking   \n",
              "4795 2022-07-02      Direct                   1874.0   netbanking   \n",
              "5081 2022-07-01        Paid                   1124.0   netbanking   \n",
              "5113 2022-06-30      Direct                   1874.0   netbanking   \n",
              "6218 2022-06-25      Direct                   2000.0   netbanking   \n",
              "7264 2022-06-20      Direct                    449.0   netbanking   \n",
              "7478 2022-06-19  Influencer                    374.0   netbanking   \n",
              "9171 2022-06-13      Direct                   2000.0          emi   \n",
              "9273 2022-06-12      Direct                     51.0   netbanking   \n",
              "\n",
              "     Currency  Code Transaction Bank  \n",
              "869             INR             KKBK  \n",
              "2264            INR             ICIC  \n",
              "3204            INR             SBIN  \n",
              "4543            INR             ICIC  \n",
              "4748            INR             ICIC  \n",
              "4795            INR             CIUB  \n",
              "5081            INR             ICIC  \n",
              "5113            INR             HDFC  \n",
              "6218            INR             HDFC  \n",
              "7264            INR             CIUB  \n",
              "7478            INR             SBIN  \n",
              "9171            INR             INDB  \n",
              "9273            INR             HDFC  "
            ],
            "text/html": [
              "\n",
              "  <div id=\"df-527a92dd-056a-48eb-a0b5-9f7b7f9bb400\">\n",
              "    <div class=\"colab-df-container\">\n",
              "      <div>\n",
              "<style scoped>\n",
              "    .dataframe tbody tr th:only-of-type {\n",
              "        vertical-align: middle;\n",
              "    }\n",
              "\n",
              "    .dataframe tbody tr th {\n",
              "        vertical-align: top;\n",
              "    }\n",
              "\n",
              "    .dataframe thead th {\n",
              "        text-align: right;\n",
              "    }\n",
              "</style>\n",
              "<table border=\"1\" class=\"dataframe\">\n",
              "  <thead>\n",
              "    <tr style=\"text-align: right;\">\n",
              "      <th></th>\n",
              "      <th>User ID</th>\n",
              "      <th>Product Code</th>\n",
              "      <th>Payment Status</th>\n",
              "      <th>Coupon code</th>\n",
              "      <th>Lead Registered Time</th>\n",
              "      <th>Sales Date</th>\n",
              "      <th>Source</th>\n",
              "      <th>Product Amount with GST</th>\n",
              "      <th>Payment Mode</th>\n",
              "      <th>Currency  Code</th>\n",
              "      <th>Transaction Bank</th>\n",
              "    </tr>\n",
              "  </thead>\n",
              "  <tbody>\n",
              "    <tr>\n",
              "      <th>869</th>\n",
              "      <td>user1205</td>\n",
              "      <td>Product38</td>\n",
              "      <td>paid</td>\n",
              "      <td>Coupon1</td>\n",
              "      <td>2022-07-25 17:23:00</td>\n",
              "      <td>2022-07-25</td>\n",
              "      <td>Paid</td>\n",
              "      <td>374.0</td>\n",
              "      <td>netbanking</td>\n",
              "      <td>INR</td>\n",
              "      <td>KKBK</td>\n",
              "    </tr>\n",
              "    <tr>\n",
              "      <th>2264</th>\n",
              "      <td>user3174</td>\n",
              "      <td>Product91</td>\n",
              "      <td>paid</td>\n",
              "      <td>Coupon1</td>\n",
              "      <td>2022-07-17 00:19:00</td>\n",
              "      <td>2022-07-16</td>\n",
              "      <td>Email</td>\n",
              "      <td>374.0</td>\n",
              "      <td>netbanking</td>\n",
              "      <td>INR</td>\n",
              "      <td>ICIC</td>\n",
              "    </tr>\n",
              "    <tr>\n",
              "      <th>3204</th>\n",
              "      <td>user4459</td>\n",
              "      <td>Product1</td>\n",
              "      <td>paid</td>\n",
              "      <td>Coupon1</td>\n",
              "      <td>2022-07-09 23:44:00</td>\n",
              "      <td>2022-07-09</td>\n",
              "      <td>Direct</td>\n",
              "      <td>2999.0</td>\n",
              "      <td>netbanking</td>\n",
              "      <td>INR</td>\n",
              "      <td>SBIN</td>\n",
              "    </tr>\n",
              "    <tr>\n",
              "      <th>4543</th>\n",
              "      <td>user5952</td>\n",
              "      <td>Product53</td>\n",
              "      <td>paid</td>\n",
              "      <td>Coupon46</td>\n",
              "      <td>2022-07-03 09:52:00</td>\n",
              "      <td>2022-07-03</td>\n",
              "      <td>Direct</td>\n",
              "      <td>1799.0</td>\n",
              "      <td>netbanking</td>\n",
              "      <td>INR</td>\n",
              "      <td>ICIC</td>\n",
              "    </tr>\n",
              "    <tr>\n",
              "      <th>4748</th>\n",
              "      <td>user6130</td>\n",
              "      <td>Product1</td>\n",
              "      <td>paid</td>\n",
              "      <td>Coupon1</td>\n",
              "      <td>2022-07-02 22:28:00</td>\n",
              "      <td>2022-07-02</td>\n",
              "      <td>Email</td>\n",
              "      <td>1874.0</td>\n",
              "      <td>netbanking</td>\n",
              "      <td>INR</td>\n",
              "      <td>ICIC</td>\n",
              "    </tr>\n",
              "    <tr>\n",
              "      <th>4795</th>\n",
              "      <td>user6178</td>\n",
              "      <td>Product1</td>\n",
              "      <td>paid</td>\n",
              "      <td>Coupon1</td>\n",
              "      <td>2022-07-02 19:23:00</td>\n",
              "      <td>2022-07-02</td>\n",
              "      <td>Direct</td>\n",
              "      <td>1874.0</td>\n",
              "      <td>netbanking</td>\n",
              "      <td>INR</td>\n",
              "      <td>CIUB</td>\n",
              "    </tr>\n",
              "    <tr>\n",
              "      <th>5081</th>\n",
              "      <td>user5305</td>\n",
              "      <td>Product31</td>\n",
              "      <td>paid</td>\n",
              "      <td>Coupon1</td>\n",
              "      <td>2022-07-01 09:05:00</td>\n",
              "      <td>2022-07-01</td>\n",
              "      <td>Paid</td>\n",
              "      <td>1124.0</td>\n",
              "      <td>netbanking</td>\n",
              "      <td>INR</td>\n",
              "      <td>ICIC</td>\n",
              "    </tr>\n",
              "    <tr>\n",
              "      <th>5113</th>\n",
              "      <td>user6544</td>\n",
              "      <td>Product1</td>\n",
              "      <td>paid</td>\n",
              "      <td>Coupon1</td>\n",
              "      <td>2022-06-30 22:34:00</td>\n",
              "      <td>2022-06-30</td>\n",
              "      <td>Direct</td>\n",
              "      <td>1874.0</td>\n",
              "      <td>netbanking</td>\n",
              "      <td>INR</td>\n",
              "      <td>HDFC</td>\n",
              "    </tr>\n",
              "    <tr>\n",
              "      <th>6218</th>\n",
              "      <td>user5277</td>\n",
              "      <td>Product1</td>\n",
              "      <td>paid</td>\n",
              "      <td>Coupon9</td>\n",
              "      <td>2022-06-25 13:07:00</td>\n",
              "      <td>2022-06-25</td>\n",
              "      <td>Direct</td>\n",
              "      <td>2000.0</td>\n",
              "      <td>netbanking</td>\n",
              "      <td>INR</td>\n",
              "      <td>HDFC</td>\n",
              "    </tr>\n",
              "    <tr>\n",
              "      <th>7264</th>\n",
              "      <td>user8616</td>\n",
              "      <td>Product98</td>\n",
              "      <td>paid</td>\n",
              "      <td>Coupon74</td>\n",
              "      <td>2022-06-20 11:32:00</td>\n",
              "      <td>2022-06-20</td>\n",
              "      <td>Direct</td>\n",
              "      <td>449.0</td>\n",
              "      <td>netbanking</td>\n",
              "      <td>INR</td>\n",
              "      <td>CIUB</td>\n",
              "    </tr>\n",
              "    <tr>\n",
              "      <th>7478</th>\n",
              "      <td>user8789</td>\n",
              "      <td>Product12</td>\n",
              "      <td>paid</td>\n",
              "      <td>Coupon1</td>\n",
              "      <td>2022-06-19 19:09:00</td>\n",
              "      <td>2022-06-19</td>\n",
              "      <td>Influencer</td>\n",
              "      <td>374.0</td>\n",
              "      <td>netbanking</td>\n",
              "      <td>INR</td>\n",
              "      <td>SBIN</td>\n",
              "    </tr>\n",
              "    <tr>\n",
              "      <th>9171</th>\n",
              "      <td>user6038</td>\n",
              "      <td>Product1</td>\n",
              "      <td>paid</td>\n",
              "      <td>Coupon9</td>\n",
              "      <td>2022-06-13 19:10:00</td>\n",
              "      <td>2022-06-13</td>\n",
              "      <td>Direct</td>\n",
              "      <td>2000.0</td>\n",
              "      <td>emi</td>\n",
              "      <td>INR</td>\n",
              "      <td>INDB</td>\n",
              "    </tr>\n",
              "    <tr>\n",
              "      <th>9273</th>\n",
              "      <td>user864</td>\n",
              "      <td>Product88</td>\n",
              "      <td>paid</td>\n",
              "      <td>Coupon93</td>\n",
              "      <td>2022-06-12 20:52:00</td>\n",
              "      <td>2022-06-12</td>\n",
              "      <td>Direct</td>\n",
              "      <td>51.0</td>\n",
              "      <td>netbanking</td>\n",
              "      <td>INR</td>\n",
              "      <td>HDFC</td>\n",
              "    </tr>\n",
              "  </tbody>\n",
              "</table>\n",
              "</div>\n",
              "      <button class=\"colab-df-convert\" onclick=\"convertToInteractive('df-527a92dd-056a-48eb-a0b5-9f7b7f9bb400')\"\n",
              "              title=\"Convert this dataframe to an interactive table.\"\n",
              "              style=\"display:none;\">\n",
              "        \n",
              "  <svg xmlns=\"http://www.w3.org/2000/svg\" height=\"24px\"viewBox=\"0 0 24 24\"\n",
              "       width=\"24px\">\n",
              "    <path d=\"M0 0h24v24H0V0z\" fill=\"none\"/>\n",
              "    <path d=\"M18.56 5.44l.94 2.06.94-2.06 2.06-.94-2.06-.94-.94-2.06-.94 2.06-2.06.94zm-11 1L8.5 8.5l.94-2.06 2.06-.94-2.06-.94L8.5 2.5l-.94 2.06-2.06.94zm10 10l.94 2.06.94-2.06 2.06-.94-2.06-.94-.94-2.06-.94 2.06-2.06.94z\"/><path d=\"M17.41 7.96l-1.37-1.37c-.4-.4-.92-.59-1.43-.59-.52 0-1.04.2-1.43.59L10.3 9.45l-7.72 7.72c-.78.78-.78 2.05 0 2.83L4 21.41c.39.39.9.59 1.41.59.51 0 1.02-.2 1.41-.59l7.78-7.78 2.81-2.81c.8-.78.8-2.07 0-2.86zM5.41 20L4 18.59l7.72-7.72 1.47 1.35L5.41 20z\"/>\n",
              "  </svg>\n",
              "      </button>\n",
              "      \n",
              "  <style>\n",
              "    .colab-df-container {\n",
              "      display:flex;\n",
              "      flex-wrap:wrap;\n",
              "      gap: 12px;\n",
              "    }\n",
              "\n",
              "    .colab-df-convert {\n",
              "      background-color: #E8F0FE;\n",
              "      border: none;\n",
              "      border-radius: 50%;\n",
              "      cursor: pointer;\n",
              "      display: none;\n",
              "      fill: #1967D2;\n",
              "      height: 32px;\n",
              "      padding: 0 0 0 0;\n",
              "      width: 32px;\n",
              "    }\n",
              "\n",
              "    .colab-df-convert:hover {\n",
              "      background-color: #E2EBFA;\n",
              "      box-shadow: 0px 1px 2px rgba(60, 64, 67, 0.3), 0px 1px 3px 1px rgba(60, 64, 67, 0.15);\n",
              "      fill: #174EA6;\n",
              "    }\n",
              "\n",
              "    [theme=dark] .colab-df-convert {\n",
              "      background-color: #3B4455;\n",
              "      fill: #D2E3FC;\n",
              "    }\n",
              "\n",
              "    [theme=dark] .colab-df-convert:hover {\n",
              "      background-color: #434B5C;\n",
              "      box-shadow: 0px 1px 3px 1px rgba(0, 0, 0, 0.15);\n",
              "      filter: drop-shadow(0px 1px 2px rgba(0, 0, 0, 0.3));\n",
              "      fill: #FFFFFF;\n",
              "    }\n",
              "  </style>\n",
              "\n",
              "      <script>\n",
              "        const buttonEl =\n",
              "          document.querySelector('#df-527a92dd-056a-48eb-a0b5-9f7b7f9bb400 button.colab-df-convert');\n",
              "        buttonEl.style.display =\n",
              "          google.colab.kernel.accessAllowed ? 'block' : 'none';\n",
              "\n",
              "        async function convertToInteractive(key) {\n",
              "          const element = document.querySelector('#df-527a92dd-056a-48eb-a0b5-9f7b7f9bb400');\n",
              "          const dataTable =\n",
              "            await google.colab.kernel.invokeFunction('convertToInteractive',\n",
              "                                                     [key], {});\n",
              "          if (!dataTable) return;\n",
              "\n",
              "          const docLinkHtml = 'Like what you see? Visit the ' +\n",
              "            '<a target=\"_blank\" href=https://colab.research.google.com/notebooks/data_table.ipynb>data table notebook</a>'\n",
              "            + ' to learn more about interactive tables.';\n",
              "          element.innerHTML = '';\n",
              "          dataTable['output_type'] = 'display_data';\n",
              "          await google.colab.output.renderOutput(dataTable, element);\n",
              "          const docLink = document.createElement('div');\n",
              "          docLink.innerHTML = docLinkHtml;\n",
              "          element.appendChild(docLink);\n",
              "        }\n",
              "      </script>\n",
              "    </div>\n",
              "  </div>\n",
              "  "
            ]
          },
          "metadata": {},
          "execution_count": 24
        }
      ]
    },
    {
      "cell_type": "code",
      "source": [
        "df.shape"
      ],
      "metadata": {
        "colab": {
          "base_uri": "https://localhost:8080/"
        },
        "id": "l7aBBt3OH1nJ",
        "outputId": "2d39b910-6f0f-449c-cbb8-afe02a9a74fe"
      },
      "execution_count": 25,
      "outputs": [
        {
          "output_type": "execute_result",
          "data": {
            "text/plain": [
              "(9514, 11)"
            ]
          },
          "metadata": {},
          "execution_count": 25
        }
      ]
    },
    {
      "cell_type": "code",
      "source": [
        "df.isna().sum()"
      ],
      "metadata": {
        "colab": {
          "base_uri": "https://localhost:8080/"
        },
        "id": "xGlupj3wI5xi",
        "outputId": "95deeb89-eb18-45fa-84a0-d844c03d957b"
      },
      "execution_count": 26,
      "outputs": [
        {
          "output_type": "execute_result",
          "data": {
            "text/plain": [
              "User ID                       0\n",
              "Product Code                  0\n",
              "Payment Status                0\n",
              "Coupon code                8852\n",
              "Lead Registered Time          0\n",
              "Sales Date                    0\n",
              "Source                        0\n",
              "Product Amount with GST       1\n",
              "Payment Mode               7784\n",
              "Currency  Code                0\n",
              "Transaction Bank           9422\n",
              "dtype: int64"
            ]
          },
          "metadata": {},
          "execution_count": 26
        }
      ]
    },
    {
      "cell_type": "markdown",
      "source": [
        "EDA"
      ],
      "metadata": {
        "id": "j5d5mPt4HcMr"
      }
    },
    {
      "cell_type": "code",
      "source": [
        "sns.countplot(data=df,x='Product Code',order=df['Product Code'])\n",
        "plt.title('Product Code wise sales')"
      ],
      "metadata": {
        "colab": {
          "base_uri": "https://localhost:8080/",
          "height": 312
        },
        "id": "YcpBO5vgwlOW",
        "outputId": "8580919e-ac6a-448f-81ae-4b8697826ebc"
      },
      "execution_count": 16,
      "outputs": [
        {
          "output_type": "execute_result",
          "data": {
            "text/plain": [
              "Text(0.5, 1.0, 'Product Code wise sales')"
            ]
          },
          "metadata": {},
          "execution_count": 16
        },
        {
          "output_type": "display_data",
          "data": {
            "text/plain": [
              "<Figure size 432x288 with 1 Axes>"
            ],
            "image/png": "[encoded data removed]"
          },
          "metadata": {
            "needs_background": "light"
          }
        }
      ]
    },
    {
      "cell_type": "code",
      "source": [
        "sns.countplot(data=df,x='Product Amount with GST')\n",
        "plt.title('Product Amount')"
      ],
      "metadata": {
        "colab": {
          "base_uri": "https://localhost:8080/",
          "height": 312
        },
        "id": "3E73xdK_wlLx",
        "outputId": "49204bad-dba7-4d94-88aa-a63c4ada763d"
      },
      "execution_count": 18,
      "outputs": [
        {
          "output_type": "execute_result",
          "data": {
            "text/plain": [
              "Text(0.5, 1.0, 'Product Amount')"
            ]
          },
          "metadata": {},
          "execution_count": 18
        },
        {
          "output_type": "display_data",
          "data": {
            "text/plain": [
              "<Figure size 432x288 with 1 Axes>"
            ],
            "image/png": "[encoded data removed]"
          },
          "metadata": {
            "needs_background": "light"
          }
        }
      ]
    },
    {
      "cell_type": "code",
      "source": [
        "sns.countplot(data=df,x='Transaction Bank')\n",
        "plt.title('BANK')\n",
        "\n"
      ],
      "metadata": {
        "colab": {
          "base_uri": "https://localhost:8080/",
          "height": 312
        },
        "id": "zXnUCA3CwlJc",
        "outputId": "03d538c3-78ed-4494-e35d-863f601fe621"
      },
      "execution_count": 22,
      "outputs": [
        {
          "output_type": "execute_result",
          "data": {
            "text/plain": [
              "Text(0.5, 1.0, 'BANK')"
            ]
          },
          "metadata": {},
          "execution_count": 22
        },
        {
          "output_type": "display_data",
          "data": {
            "text/plain": [
              "<Figure size 432x288 with 1 Axes>"
            ],
            "image/png": "[encoded data removed]"
          },
          "metadata": {
            "needs_background": "light"
          }
        }
      ]
    },
    {
      "cell_type": "code",
      "source": [
        "sns.countplot(data=df,x='Payment Mode')\n",
        "plt.title('Type of Payment')"
      ],
      "metadata": {
        "colab": {
          "base_uri": "https://localhost:8080/",
          "height": 313
        },
        "id": "vioiKgtHwlG8",
        "outputId": "ad39620a-9cda-4168-9a03-b7828851ba0e"
      },
      "execution_count": 27,
      "outputs": [
        {
          "output_type": "execute_result",
          "data": {
            "text/plain": [
              "Text(0.5, 1.0, 'Type of Payment')"
            ]
          },
          "metadata": {},
          "execution_count": 27
        },
        {
          "output_type": "display_data",
          "data": {
            "text/plain": [
              "<Figure size 432x288 with 1 Axes>"
            ],
            "image/png": "[encoded data removed]"
          },
          "metadata": {
            "needs_background": "light"
          }
        }
      ]
    },
    {
      "cell_type": "code",
      "source": [
        "sns.countplot(data=df,x='Coupon code')\n",
        "fig = plt.figure(figsize=(5,8))\n"
      ],
      "metadata": {
        "colab": {
          "base_uri": "https://localhost:8080/",
          "height": 351
        },
        "id": "_9cB-WgJwlEv",
        "outputId": "2e32a26f-913d-4b3c-dc2c-0620ac23f8e5"
      },
      "execution_count": 35,
      "outputs": [
        {
          "output_type": "display_data",
          "data": {
            "text/plain": [
              "<Figure size 720x360 with 1 Axes>"
            ],
            "image/png": "[encoded data removed]"
          },
          "metadata": {
            "needs_background": "light"
          }
        },
        {
          "output_type": "display_data",
          "data": {
            "text/plain": [
              "<Figure size 360x576 with 0 Axes>"
            ]
          },
          "metadata": {}
        }
      ]
    },
    {
      "cell_type": "code",
      "source": [
        "sns.countplot(data=df,x='Source')\n",
        "plt.title('Source')"
      ],
      "metadata": {
        "colab": {
          "base_uri": "https://localhost:8080/",
          "height": 367
        },
        "id": "1VEbGMHfI-HB",
        "outputId": "9636093b-e3c3-4a97-db31-75b9e0c5c044"
      },
      "execution_count": 37,
      "outputs": [
        {
          "output_type": "execute_result",
          "data": {
            "text/plain": [
              "Text(0.5, 1.0, 'Source')"
            ]
          },
          "metadata": {},
          "execution_count": 37
        },
        {
          "output_type": "display_data",
          "data": {
            "text/plain": [
              "<Figure size 720x360 with 1 Axes>"
            ],
            "image/png": "[encoded data removed]"
          },
          "metadata": {
            "needs_background": "light"
          }
        }
      ]
    },
    {
      "cell_type": "code",
      "source": [
        "sns.distplot(df['Product Amount with GST'])\n",
        "plt.title('Cost')"
      ],
      "metadata": {
        "colab": {
          "base_uri": "https://localhost:8080/",
          "height": 367
        },
        "id": "E10tlKDCI-Ef",
        "outputId": "5df990a5-c6de-4b18-deee-1acaa4705b9a"
      },
      "execution_count": 40,
      "outputs": [
        {
          "output_type": "execute_result",
          "data": {
            "text/plain": [
              "Text(0.5, 1.0, 'Cost')"
            ]
          },
          "metadata": {},
          "execution_count": 40
        },
        {
          "output_type": "display_data",
          "data": {
            "text/plain": [
              "<Figure size 720x360 with 1 Axes>"
            ],
            "image/png": "[encoded data removed]"
          },
          "metadata": {
            "needs_background": "light"
          }
        }
      ]
    },
    {
      "cell_type": "code",
      "source": [
        "sns.jointplot(df['Payment Status'], df['Product Amount with GST'])\n"
      ],
      "metadata": {
        "colab": {
          "base_uri": "https://localhost:8080/",
          "height": 513
        },
        "id": "AjeQavv_I9_q",
        "outputId": "eb6f9e85-8434-4624-8958-089bfdd0c6f5"
      },
      "execution_count": 52,
      "outputs": [
        {
          "output_type": "stream",
          "name": "stderr",
          "text": [
            "/usr/local/lib/python3.7/dist-packages/seaborn/_decorators.py:43: FutureWarning: Pass the following variables as keyword args: x, y. From version 0.12, the only valid positional argument will be `data`, and passing other arguments without an explicit keyword will result in an error or misinterpretation.\n",
            "  FutureWarning\n"
          ]
        },
        {
          "output_type": "execute_result",
          "data": {
            "text/plain": [
              "<seaborn.axisgrid.JointGrid at 0x7f99359ee990>"
            ]
          },
          "metadata": {},
          "execution_count": 52
        },
        {
          "output_type": "display_data",
          "data": {
            "text/plain": [
              "<Figure size 432x432 with 3 Axes>"
            ],
            "image/png": "[encoded data removed]"
          },
          "metadata": {
            "needs_background": "light"
          }
        }
      ]
    },
    {
      "cell_type": "code",
      "source": [
        "sns.pairplot(df[['Source','Product Amount with GST', 'Payment Mode']])\n"
      ],
      "metadata": {
        "id": "gXXptDY-SuL8",
        "outputId": "99cc471d-1fa6-4423-bceb-d1e8c4524e7b",
        "colab": {
          "base_uri": "https://localhost:8080/",
          "height": 214
        }
      },
      "execution_count": 63,
      "outputs": [
        {
          "output_type": "execute_result",
          "data": {
            "text/plain": [
              "<seaborn.axisgrid.PairGrid at 0x7f993504b150>"
            ]
          },
          "metadata": {},
          "execution_count": 63
        },
        {
          "output_type": "display_data",
          "data": {
            "text/plain": [
              "<Figure size 180x180 with 2 Axes>"
            ],
            "image/png": "[encoded data removed]"
          },
          "metadata": {
            "needs_background": "light"
          }
        }
      ]
    },
    {
      "cell_type": "code",
      "source": [
        ""
      ],
      "metadata": {
        "id": "X1ujt4s1SuJs"
      },
      "execution_count": null,
      "outputs": []
    },
    {
      "cell_type": "code",
      "source": [
        ""
      ],
      "metadata": {
        "id": "zpzHsQ5dSuHE"
      },
      "execution_count": null,
      "outputs": []
    },
    {
      "cell_type": "code",
      "source": [
        ""
      ],
      "metadata": {
        "id": "WU1mNQi2SuEs"
      },
      "execution_count": null,
      "outputs": []
    },
    {
      "cell_type": "code",
      "source": [
        ""
      ],
      "metadata": {
        "id": "2kY46EemSuB9"
      },
      "execution_count": null,
      "outputs": []
    },
    {
      "cell_type": "code",
      "source": [
        ""
      ],
      "metadata": {
        "id": "Cr_Uf5YKSt_N"
      },
      "execution_count": null,
      "outputs": []
    }
  ],
  "metadata": {
    "colab": {
      "collapsed_sections": [],
      "name": "Internal task ",
      "provenance": [],
      "include_colab_link": true
    },
    "kernelspec": {
      "display_name": "Python 3",
      "name": "python3"
    },
    "gpuClass": "standard",
    "accelerator": "GPU"
  },
  "nbformat": 4,
  "nbformat_minor": 0
}